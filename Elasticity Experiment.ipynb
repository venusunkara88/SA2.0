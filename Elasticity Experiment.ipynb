{
 "metadata": {
  "name": "",
  "signature": "sha256:fbfe9280e01693debbb46dc82549e79d2c406a48f71181d301a4147f3c8ed598"
 },
 "nbformat": 3,
 "nbformat_minor": 0,
 "worksheets": [
  {
   "cells": [
    {
     "cell_type": "markdown",
     "metadata": {},
     "source": [
      "# Hooke's Law of Elasticity\n",
      "This sample notebook is based on the experiment outlined in Chapter 15 of the book [Computation and Programming in Python](http://mitpress.mit.edu/books/introduction-computation-and-programming-using-python-0).\n",
      "\n",
      "## Overview\n",
      "Hooke's Law suggests that the force associated with a spring when it is released is linearly related to the distance it has been compressed. \n",
      "\n",
      "An experiment was conducted to capture data for a number of springs across various compression lengths. The indent of the experiment is demonstrate Hooke's Law by showing that the results of the experiment lie on a straight line. Yet experiment data tends not to be perfect so we expect the results to lie around a curved line not necessary on it. \n",
      "\n",
      "Could we use the results to fit a model that will allow us to depict the linear premise posited by Hooke? Can we use a linear regression to solve the problem?"
     ]
    },
    {
     "cell_type": "markdown",
     "metadata": {},
     "source": [
      "## Get Data\n",
      "\n",
      "1. [Download](http://mitpress.mit.edu/sites/all/modules/pubdlcnt/pubdlcnt.php?file=/sites/default/files/titles/content/9780262525008_Code.zip&nid=205426) the code that accompanies the aforementioned book. \n",
      "2. Unzip the downloaded source code\n",
      "3. Drag and Drop the file /codeForWebSite/Chapter 15/springData.txt into the KnowledgeAnyhow Workbench.\n",
      "4. Tag the resulting data item with \"samples, linear regression\""
     ]
    },
    {
     "cell_type": "markdown",
     "metadata": {},
     "source": [
      "## Extract, Transform and Load\n",
      "Load the test results from a text file, \"springData.txt\", and establish an array containing distances and masses."
     ]
    },
    {
     "cell_type": "code",
     "collapsed": false,
     "input": [
      "def getData(fileName):\n",
      "    dataFile = open(fileName, 'r')\n",
      "    distances = []\n",
      "    masses = []\n",
      "    discardHeader = dataFile.readline()\n",
      "    for line in dataFile:\n",
      "        d, m = line.split(' ')\n",
      "        distances.append(float(d))\n",
      "        masses.append(float(m))\n",
      "    dataFile.close()\n",
      "    return (masses, distances)\n",
      "\n",
      "getData('/resources/springData.txt')"
     ],
     "language": "python",
     "metadata": {},
     "outputs": []
    },
    {
     "cell_type": "markdown",
     "metadata": {},
     "source": [
      "## Data Exploration\n",
      "As mentioned, experimental data typically does not result in a straight line. We should plot our sample data to establish a baseline of test results."
     ]
    },
    {
     "cell_type": "code",
     "collapsed": false,
     "input": [
      "%matplotlib inline"
     ],
     "language": "python",
     "metadata": {},
     "outputs": []
    },
    {
     "cell_type": "code",
     "collapsed": false,
     "input": [
      "import pylab, random\n",
      "\n",
      "def plotData(inputFile):\n",
      "    masses, distances = getData(inputFile)\n",
      "    masses = pylab.array(masses)\n",
      "    distances = pylab.array(distances)\n",
      "    forces = masses*9.81\n",
      "    pylab.plot(forces, distances, 'bo',\n",
      "               label = 'Measured displacements')\n",
      "    pylab.title('Measured Displacement of Spring')\n",
      "    pylab.xlabel('|Force| (Newtons)')\n",
      "    pylab.ylabel('Distance (meters)')\n",
      "\n",
      "plotData('/resources/springData.txt')"
     ],
     "language": "python",
     "metadata": {},
     "outputs": []
    },
    {
     "cell_type": "markdown",
     "metadata": {},
     "source": [
      "### Observations\n",
      "As expected the results of our experimental data do not depict a perfect slope."
     ]
    },
    {
     "cell_type": "markdown",
     "metadata": {},
     "source": [
      "## Predictive Analysis\n",
      "How do we determine the best fit line (or curve) that most accurately represents our data while assuming no measurement error? \n",
      "\n",
      "### Fit Data\n",
      "A common approach to this problem is to use a **least squares** function to perdict the optimal fit for our data."
     ]
    },
    {
     "cell_type": "code",
     "collapsed": false,
     "input": [
      "def fitData(inputFile):\n",
      "    masses, distances = getData(inputFile)\n",
      "    distances = pylab.array(distances)\n",
      "    masses = pylab.array(masses)\n",
      "    forces = masses*9.81\n",
      "    pylab.plot(forces, distances, 'bo',\n",
      "               label = 'Measured displacements')\n",
      "    pylab.title('Measured Displacement of Spring')\n",
      "    pylab.xlabel('|Force| (Newtons)')\n",
      "    pylab.ylabel('Distance (meters)')\n",
      "    #find linear fit\n",
      "    a,b = pylab.polyfit(forces, distances, 1)\n",
      "    predictedDistances = a*pylab.array(forces) + b\n",
      "    k = 1.0/a\n",
      "    pylab.plot(forces, predictedDistances,\n",
      "               label = 'Displacements predicted by\\nlinear fit, k = '\n",
      "               + str(round(k, 5)))\n",
      "    pylab.legend(loc = 'best')\n",
      "\n",
      "fitData('/resources/springData.txt')"
     ],
     "language": "python",
     "metadata": {},
     "outputs": []
    },
    {
     "cell_type": "markdown",
     "metadata": {},
     "source": [
      "### Fit Data Observations\n",
      "\n",
      "* Only one test result actually lies on the predicted slope.\n",
      "* This is possible because polyfit() does not attempt to maximize the number points on the line.\n",
      "\n",
      "### Compare Fit Data\n",
      "\n",
      "Could we improve our predictive slope by using a cubic fit function?\n"
     ]
    },
    {
     "cell_type": "code",
     "collapsed": false,
     "input": [
      "def compareFitData(inputFile):\n",
      "    masses, distances = getData(inputFile)\n",
      "    distances = pylab.array(distances)\n",
      "    masses = pylab.array(masses)\n",
      "    forces = masses*9.81\n",
      "    pylab.plot(forces, distances, 'bo',\n",
      "               label = 'Measured displacements')\n",
      "    pylab.title('Measured Displacement of Spring')\n",
      "    pylab.xlabel('|Force| (Newtons)')\n",
      "    pylab.ylabel('Distance (meters)')\n",
      "    #find linear fit\n",
      "    a,b = pylab.polyfit(forces, distances, 1)\n",
      "    predictedDistances = a*pylab.array(forces) + b\n",
      "    k = 1.0/a\n",
      "    pylab.plot(forces, predictedDistances,\n",
      "               label = 'Displacements predicted by\\nlinear fit, k = '\n",
      "               + str(round(k, 5)))\n",
      "    #find cubic fit\n",
      "    a,b,c,d = pylab.polyfit(forces, distances, 3)\n",
      "    predictedDistances = a*(forces**3) + b*forces**2 + c*forces + d\n",
      "    pylab.plot(forces, predictedDistances, 'b:', label = 'cubic fit')\n",
      "    pylab.legend(loc = 'best')\n",
      "\n",
      "compareFitData('/resources/springData.txt')\n",
      "\n"
     ],
     "language": "python",
     "metadata": {},
     "outputs": []
    },
    {
     "cell_type": "markdown",
     "metadata": {},
     "source": [
      "### Compare Fit Data Observations\n",
      "\n",
      "Does the fitted cubic curve more accurately represent Hooke's Law which suggested a linear regression? Probably not!\n",
      "\n",
      "### Reduce to Improve\n",
      "\n",
      "Can we improve the model by eliminating results, such as the last 6 points?\n"
     ]
    },
    {
     "cell_type": "code",
     "collapsed": false,
     "input": [
      "def reduceToImprove(inputFile):\n",
      "    masses, distances = getData(inputFile)\n",
      "    distances = pylab.array(distances[:-6])\n",
      "    masses = pylab.array(masses[:-6])\n",
      "    forces = masses*9.81\n",
      "    pylab.plot(forces, distances, 'bo',\n",
      "               label = 'Measured displacements')\n",
      "    pylab.title('Measured Displacement of Spring')\n",
      "    pylab.xlabel('|Force| (Newtons)')\n",
      "    pylab.ylabel('Distance (meters)')\n",
      "    #find linear fit\n",
      "    a,b = pylab.polyfit(forces, distances, 1)\n",
      "    predictedDistances = a*pylab.array(forces) + b\n",
      "    k = 1.0/a\n",
      "    pylab.plot(forces, predictedDistances,\n",
      "               label = 'Displacements predicted by\\nlinear fit, k = '\n",
      "               + str(round(k, 5)))\n",
      "    #find cubic fit\n",
      "    a,b,c,d = pylab.polyfit(forces, distances, 3)\n",
      "    predictedDistances = a*(forces**3) + b*forces**2 + c*forces + d\n",
      "    pylab.plot(forces, predictedDistances, 'b:', label = 'cubic fit')\n",
      "    pylab.legend(loc = 'best')\n",
      "\n",
      "reduceToImprove('/resources/springData.txt')"
     ],
     "language": "python",
     "metadata": {},
     "outputs": []
    },
    {
     "cell_type": "markdown",
     "metadata": {},
     "source": [
      "### Reduce to Improve Observations\n",
      "\n",
      "Yes the rendering is improved but eliminating data is not a justified action."
     ]
    },
    {
     "cell_type": "markdown",
     "metadata": {},
     "source": [
      "## Conclusion\n",
      "Based on the predictive modeling explored herein, we could conclude that we lack a sufficient sample set of experimental data to validate Hooke's Law.\n",
      "\n",
      "The reader is encouraged to expand on this data exploration lesson by implementing additional modeling techniques discussed in Chapter 15 of  the book [Computation and Programming in Python](http://mitpress.mit.edu/books/introduction-computation-and-programming-using-python-0)."
     ]
    }
   ],
   "metadata": {}
  }
 ]
}
